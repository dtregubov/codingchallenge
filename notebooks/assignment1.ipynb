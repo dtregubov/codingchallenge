{
 "cells": [
  {
   "cell_type": "markdown",
   "metadata": {},
   "source": [
    "# Bag of Words Text Classifier"
   ]
  },
  {
   "cell_type": "code",
   "execution_count": null,
   "metadata": {
    "id": "rYJ7PiaO2R6Q"
   },
   "outputs": [],
   "source": [
    "import torch\n",
    "\n",
    "import random\n",
    "import torch.nn as nn"
   ]
  },
  {
   "cell_type": "code",
   "execution_count": null,
   "metadata": {
    "colab": {
     "base_uri": "https://localhost:8080/"
    },
    "id": "F_lDByee1ddU",
    "outputId": "dd7c6b4b-2178-4b76-ee93-6122a00dc95c"
   },
   "outputs": [],
   "source": [
    "\n",
    "\n",
    "\n",
    "!wget https://raw.githubusercontent.com/neubig/nn4nlp-code/master/data/classes/dev.txt\n",
    "!wget https://raw.githubusercontent.com/neubig/nn4nlp-code/master/data/classes/test.txt\n",
    "!wget https://raw.githubusercontent.com/neubig/nn4nlp-code/master/data/classes/train.txt\n",
    "\n",
    "\n",
    "!mkdir data data/classes\n",
    "!cp dev.txt data/classes\n",
    "!cp test.txt data/classes\n",
    "!cp train.txt data/classes"
   ]
  },
  {
   "cell_type": "code",
   "execution_count": null,
   "metadata": {
    "id": "YOYzmcLdzD8i"
   },
   "outputs": [],
   "source": [
    "\n",
    "def _read_data(filename):\n",
    "\n",
    "    Data = []\n",
    "    with open( filename,'r') as f:\n",
    "        for Line in f:\n",
    "                Line = Line.lower().strip()\n",
    "                Line = Line.split(' ||| ' )\n",
    "\n",
    "                Data.append(Line)\n",
    "    return Data\n",
    "\n",
    "train_data=_read_data('data/classes/train.txt')\n",
    "test_data=_read_data('data/classes/test.txt')"
   ]
  },
  {
   "cell_type": "markdown",
   "metadata": {},
   "source": [
    "### Construct the Vocab and Datasets"
   ]
  },
  {
   "cell_type": "code",
   "execution_count": null,
   "metadata": {
    "id": "9MJHDqjT2qDu"
   },
   "outputs": [],
   "source": [
    "# creating the word and tag indices\n",
    "WORDTOINDEX = {}\n",
    "WORDTOINDEX[\"<unk>\"] = len(WORDTOINDEX)\n",
    "\n",
    "TAGTOINDEX = {}\n",
    "# create word to index dictionary and tag to index dictionary from data\n",
    "def _create_dict(data, check_unk=False):\n",
    "    for _line in data:\n",
    "        for word in _line[1].split(\" \"):\n",
    "            if check_unk == False:\n",
    "                if word not in WORDTOINDEX:\n",
    "                      WORDTOINDEX[word] = len(WORDTOINDEX)\n",
    "            else:\n",
    "                if word not in WORDTOINDEX:\n",
    "                      WORDTOINDEX[word] = WORDTOINDEX[\"<unk>\"]\n",
    "\n",
    "        if _line[0] not in TAGTOINDEX:\n",
    "            TAGTOINDEX[_line[0]] = len(TAGTOINDEX)\n",
    "\n",
    "_create_dict(train_data)\n",
    "_create_dict(test_data, check_unk = True)\n",
    "\n",
    "# create word and tag tensors from data\n",
    "def _create_tensor(data):\n",
    "    for _line in data:\n",
    "        yield([WORDTOINDEX[word] for word in _line[1].split(\" \")], TAGTOINDEX[_line[0]])\n",
    "\n",
    "train_data = list(_create_tensor(train_data))\n",
    "test_data = list(_create_tensor(test_data))\n",
    "\n",
    "number_of_words = len(WORDTOINDEX)\n",
    "number_of_tags = len(TAGTOINDEX)"
   ]
  },
  {
   "cell_type": "markdown",
   "metadata": {},
   "source": [
    "### Model"
   ]
  },
  {
   "cell_type": "code",
   "execution_count": null,
   "metadata": {
    "id": "Zt76PIzP0jWn"
   },
   "outputs": [],
   "source": [
    "device = \"cuda\" if torch.cuda.is_available() else \"cpu\"\n",
    "\n",
    "# create a simple neural network with embedding layer, bias, and xavier initialization\n",
    "class BoW(torch.nn.Module):\n",
    "  def __init__(self, nwords, ntags):\n",
    "      super(BoW, self).__init__()\n",
    "      self.Embedding = nn.Embedding(nwords, ntags)\n",
    "      nn.init.xavier_uniform_(self.Embedding.weight)\n",
    "\n",
    "      type = torch.cuda.FloatTensor if torch.cuda.is_available( ) else torch.FloatTensor\n",
    "      self.bias = torch.zeros(ntags, requires_grad = True).type(type)\n",
    "\n",
    "  def forward(self, x):\n",
    "      emb = self.Embedding(x)\n",
    "      out = torch.sum(emb, dim = 0)+self.bias\n",
    "      out = out.view(1, -1)\n",
    "      return out"
   ]
  },
  {
   "cell_type": "markdown",
   "metadata": {},
   "source": [
    "### Pretest the Model"
   ]
  },
  {
   "cell_type": "code",
   "execution_count": null,
   "metadata": {
    "colab": {
     "base_uri": "https://localhost:8080/"
    },
    "id": "pn_LCZJv2Osz",
    "outputId": "e70fb4ee-bfab-4dac-e817-9ab4d959f672"
   },
   "outputs": [],
   "source": [
    "# function to convert sentence into tensor using word_to_index dictionary\n",
    "def sentence_to_tensor(sentence):\n",
    "    return torch.LongTensor([WORDTOINDEX[_word] for _word in sentence.split(\" \")])\n",
    "type = torch.cuda.LongTensor if torch.cuda.is_available() else torch.LongTensor\n",
    "out = sentence_to_tensor(\"i love dogs\").type(type)\n",
    "test_model = BoW(number_of_words, number_of_tags).to(device)\n",
    "\n",
    "test_model(out)"
   ]
  },
  {
   "cell_type": "markdown",
   "metadata": {},
   "source": [
    "### Train the Model"
   ]
  },
  {
   "cell_type": "code",
   "execution_count": null,
   "metadata": {
    "colab": {
     "base_uri": "https://localhost:8080/"
    },
    "id": "f86xjDAi2bt8",
    "outputId": "3fb5bdb0-752a-4e98-ab48-10542abc1326"
   },
   "outputs": [],
   "source": [
    "# train and test the BoW model\n",
    "model = BoW(number_of_words, number_of_tags).to(device)\n",
    "criterion = nn.CrossEntropyLoss()\n",
    "optimizer = torch.optim.Adam(model.parameters( ))\n",
    "type = torch.LongTensor\n",
    "\n",
    "if torch.cuda.is_available():\n",
    "    model.to(device)\n",
    "    type = torch.cuda.LongTensor\n",
    "# perform training of the Bow model\n",
    "def train_bow(model,\n",
    "              optimizer,\n",
    "              criterion,\n",
    "              train_data):\n",
    "    for ITER in range(10):\n",
    "        # perform training\n",
    "        model.train()\n",
    "        random.shuffle(train_data)\n",
    "        total_loss = 0.0\n",
    "        train_correct = 0\n",
    "        for sentence, tag in train_data:\n",
    "            sentence = torch.tensor(sentence).type(type)\n",
    "            tag = torch.tensor([tag]).type(type)\n",
    "            output = model(sentence)\n",
    "            predicted = torch.argmax(output.data.detach()).item()\n",
    "\n",
    "            loss = criterion(output, tag)\n",
    "            total_loss += loss.item()\n",
    "\n",
    "            optimizer.zero_grad()\n",
    "            loss.backward()\n",
    "            optimizer.step()\n",
    "\n",
    "            if predicted == tag: train_correct+=1\n",
    "        # perform testing of the model\n",
    "        model.eval()\n",
    "        test_correct = 0\n",
    "        for _sentence, tag in test_data:\n",
    "            _sentence = torch.tensor(_sentence).type(type)\n",
    "            output = model(_sentence)\n",
    "            predicted = torch.argmax(output.data.detach()).item()\n",
    "            if predicted == tag: test_correct += 1\n",
    "\n",
    "\n",
    "        # print model performance results\n",
    "        log = f'ITER: {ITER+1} | ' \\\n",
    "            f'train loss/sent: {total_loss/len(train_data):.4f} | ' \\\n",
    "            f'train accuracy: {train_correct/len(train_data):.4f} | ' \\\n",
    "            f'test accuracy: {test_correct/len(test_data):.4f}'\n",
    "        print(log)\n",
    "# call the train_bow function\n",
    "train_bow(model, optimizer, criterion, train_data)"
   ]
  },
  {
   "cell_type": "markdown",
   "metadata": {},
   "source": [
    "### Perform inference"
   ]
  },
  {
   "cell_type": "code",
   "execution_count": null,
   "metadata": {},
   "outputs": [],
   "source": [
    "\n",
    "def perform_inference(model, sentence, word_to_index, tag_to_index, device):\n",
    "    \"\"\"\n",
    "    Perform inference on the trained BoW model.\n",
    "\n",
    "    Args:\n",
    "        model (torch.nn.Module): The trained BoW model.\n",
    "        sentence (str): The input sentence for inference.\n",
    "        word_to_index (dict): A dictionary mapping words to their indices.\n",
    "        tag_to_index (dict): A dictionary mapping tags to their indices.\n",
    "        device (str): \"cuda\" or \"cpu\" based on availability.\n",
    "\n",
    "    Returns:\n",
    "        str: The predicted class/tag for the input sentence.\n",
    "    \"\"\"\n",
    "    # Preprocess the input sentence to match the model's input format\n",
    "    sentence_tensor = sentence_to_tensor(sentence, word_to_index)\n",
    "\n",
    "    # Move the input tensor to the same device as the model\n",
    "    sentence_tensor = sentence_tensor.to(device)\n",
    "    \n",
    "    # Make sure the model is in evaluation mode and on the correct device\n",
    "    model.eval()\n",
    "    model.to(device)\n",
    "\n",
    "    # Perform inference\n",
    "    with torch.no_grad():\n",
    "        output = model(sentence_tensor)\n",
    "\n",
    "    # Move the output tensor to CPU if it's on CUDA\n",
    "    if device == \"cuda\":\n",
    "        output = output.cpu()\n",
    "\n",
    "    # Convert the model's output to a predicted class/tag\n",
    "    predicted_class = torch.argmax(output).item()\n",
    "\n",
    "    # Reverse lookup to get the tag corresponding to the predicted class\n",
    "    for tag, index in tag_to_index.items():\n",
    "        if index == predicted_class:\n",
    "            return tag\n",
    "\n",
    "    # Return an error message if the tag is not found\n",
    "    return \"Tag not found\"\n",
    "\n",
    "# Example usage:\n",
    "# Load your trained model (model) and dictionaries (word_to_index and tag_to_index) here\n",
    "# model = load_trained_model()\n",
    "# word_to_index, tag_to_index = load_dictionaries()\n",
    "\n",
    "# Determine the device based on availability\n",
    "device = \"cuda\" if torch.cuda.is_available() else \"cpu\"\n",
    "\n",
    "sample_sentence = \"I love programming\"\n",
    "predicted_tag = perform_inference(model, sample_sentence, word_to_index, tag_to_index, device)\n",
    "print(f\"Predicted Tag: {predicted_tag}\")"
   ]
  }
 ],
 "metadata": {
  "accelerator": "GPU",
  "colab": {
   "provenance": []
  },
  "kernelspec": {
   "display_name": "Python 3 (ipykernel)",
   "language": "python",
   "name": "python3"
  },
  "language_info": {
   "codemirror_mode": {
    "name": "ipython",
    "version": 3
   },
   "file_extension": ".py",
   "mimetype": "text/x-python",
   "name": "python",
   "nbconvert_exporter": "python",
   "pygments_lexer": "ipython3",
   "version": "3.10.11"
  }
 },
 "nbformat": 4,
 "nbformat_minor": 4
}
